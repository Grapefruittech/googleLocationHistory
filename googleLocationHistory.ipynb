{
 "cells": [
  {
   "cell_type": "markdown",
   "metadata": {},
   "source": [
    "# Google Location History\n",
    "In January I looked at my 2014 location history. I was able to get this through Google's services since, owning an Android phone, Google has a history of all the location points my phone marked throughout the year.\n",
    "\n",
    "I wanted to look at this because it was an interesting year for me (location wise at least).\n",
    "* Jan - May : Troy, NY at RPI\n",
    "* Jun       : Horsham, PA for a month off\n",
    "* July      : Walden, NY for the first month of work\n",
    "* Aug - Dec : New York, NY living in Manhattan\n",
    "\n",
    "I also was fortunate enough to take three different trips via plane to various places in and out of the country.\n",
    "* Mar : Denver, CO for a ski trip\n",
    "* Jun : St. Martin for a family vacation\n",
    "* Nov : San Francisco, CA for a vacation\n",
    "\n",
    "On top of all of this I was travelling all over the Northeast visiting family and friends, hiking and skiing, and playing ultimate. Therefore my location history was all over the place. So let's take a look at it!\n",
    "\n",
    "\n",
    "## Importing the data\n",
    "\n",
    "First step is importing the data. There wasn't an easy way to get this from Google's location history site in one file so I downloaded 12, 30 day segments that cover all of the points recorded.\n",
    "\n",
    "Next, these come in KML format which, while useful for something like Google Earth, isn't as useful to read by hand. I used this short script `googleHistoryKmlToCsv.py` (included in the GitHub repo) to take care of that for me and put it in one long csv file with 5 columns.\n",
    "\n",
    "Finally I read this in to a multidimensional array to use in python."
   ]
  },
  {
   "cell_type": "code",
   "execution_count": 79,
   "metadata": {
    "collapsed": false
   },
   "outputs": [
    {
     "name": "stdout",
     "output_type": "stream",
     "text": [
      "date     \ttime     \ttimezone     \tlon     \tlat\n",
      "2013-12-31     \t21:00:00.808     \t-08:00     \t-75.1623178     \t39.9503276\n",
      "2013-12-31     \t21:01:21.833     \t-08:00     \t-75.1623359     \t39.9502989\n",
      "2013-12-31     \t21:02:23.646     \t-08:00     \t-75.1622899     \t39.950273\n",
      "2013-12-31     \t21:03:24.811     \t-08:00     \t-75.1623766     \t39.9503107\n"
     ]
    }
   ],
   "source": [
    "\n",
    "# read in to multi dimensional array\n",
    "HISTORY = [line.strip().split(',') for line in open('history-2014.csv')]\n",
    "\n",
    "# head of the file\n",
    "print '\\n'.join([str('\\t'.join(c)) for c in HISTORY[:][:5]])"
   ]
  },
  {
   "cell_type": "code",
   "execution_count": null,
   "metadata": {
    "collapsed": true
   },
   "outputs": [],
   "source": []
  }
 ],
 "metadata": {
  "kernelspec": {
   "display_name": "Python 2",
   "language": "python",
   "name": "python2"
  },
  "language_info": {
   "codemirror_mode": {
    "name": "ipython",
    "version": 2
   },
   "file_extension": ".py",
   "mimetype": "text/x-python",
   "name": "python",
   "nbconvert_exporter": "python",
   "pygments_lexer": "ipython2",
   "version": "2.7.6"
  }
 },
 "nbformat": 4,
 "nbformat_minor": 0
}
